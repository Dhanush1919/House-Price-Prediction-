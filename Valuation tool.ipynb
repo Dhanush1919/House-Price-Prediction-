{
 "cells": [
  {
   "cell_type": "code",
   "execution_count": 1,
   "metadata": {},
   "outputs": [],
   "source": [
    "from sklearn.datasets import load_boston\n",
    "from sklearn.linear_model import LinearRegression\n",
    "from sklearn.metrics import mean_squared_error\n",
    "\n",
    "import pandas as pd\n",
    "import numpy as np\n",
    "import matplotlib.pyplot as plt\n"
   ]
  },
  {
   "cell_type": "code",
   "execution_count": 2,
   "metadata": {},
   "outputs": [],
   "source": [
    "CHAS_IDX=2\n",
    "RM_IDX=4\n",
    "PTRATIO=8"
   ]
  },
  {
   "cell_type": "code",
   "execution_count": 3,
   "metadata": {},
   "outputs": [],
   "source": [
    "#Gather Data:\n",
    "boston_dataset = load_boston()\n",
    "data = pd.DataFrame(data=boston_dataset.data,columns=boston_dataset.feature_names)\n",
    "features = data.drop(['INDUS','AGE'],axis=1)\n",
    "\n",
    "log_prices=np.log(boston_dataset.target)\n",
    "target = pd.DataFrame(data=log_prices,columns=['PRICE'])"
   ]
  },
  {
   "cell_type": "code",
   "execution_count": 4,
   "metadata": {},
   "outputs": [],
   "source": [
    "property_stats=features.mean().values.reshape(1,11)"
   ]
  },
  {
   "cell_type": "code",
   "execution_count": 5,
   "metadata": {},
   "outputs": [],
   "source": [
    "regr=LinearRegression()\n",
    "regr.fit(features,target)\n",
    "fitted_vals=regr.predict(features)\n",
    "\n",
    "MSE = mean_squared_error(target,fitted_vals)\n",
    "RMSE =  np.sqrt(MSE)"
   ]
  },
  {
   "cell_type": "code",
   "execution_count": 6,
   "metadata": {},
   "outputs": [],
   "source": [
    "def get_log_estimate(nr_rooms,students_per_classroom,next_to_river=False,high_confidence=True):\n",
    "    \n",
    "    #Configure property:\n",
    "    property_stats[0][RM_IDX]=nr_rooms\n",
    "    property_stats[0][PTRATIO]=students_per_classroom\n",
    "    \n",
    "    if next_to_river:\n",
    "        property_stats[0][CHAS_IDX]=1\n",
    "    else:\n",
    "        property_stats[0][CHAS_IDX]=0\n",
    "    \n",
    "    #Make prediction:\n",
    "    log_estimate=regr.predict(property_stats)[0][0]\n",
    "    \n",
    "    #Calc Range:\n",
    "    if high_confidence: # calculating 95% sd\n",
    "        upper_bound=log_estimate+2*RMSE\n",
    "        lower_bound=log_estimate-2*RMSE\n",
    "        interval=95\n",
    "    else: # Calculating 68% sd\n",
    "        upper_bound=log_estimate-RMSE\n",
    "        lower_bound=log_estimate-RMSE\n",
    "        interval=68\n",
    "    return log_estimate,upper_bound,lower_bound,interval"
   ]
  },
  {
   "cell_type": "code",
   "execution_count": 7,
   "metadata": {},
   "outputs": [
    {
     "data": {
      "text/plain": [
       "(2.890381228132648, 3.2654054985269085, 2.5153569577383874, 95)"
      ]
     },
     "execution_count": 7,
     "metadata": {},
     "output_type": "execute_result"
    }
   ],
   "source": [
    "get_log_estimate(5,19,next_to_river=False)"
   ]
  },
  {
   "cell_type": "code",
   "execution_count": 8,
   "metadata": {},
   "outputs": [
    {
     "name": "stdout",
     "output_type": "stream",
     "text": [
      "The Estimated Property value in $:827000.0\n",
      "Calculating at 68 % standard deviation\n",
      "The Upper bound:685000.0 ,The lower bound:685000.0\n"
     ]
    }
   ],
   "source": [
    "ZILLOW_MEDIAN_PRICE = 583.3 #Value from internet \n",
    "SCALE_FACTOR = ZILLOW_MEDIAN_PRICE/np.median(boston_dataset.target) # for converting into todays \n",
    "#price in $ with 1970's data\n",
    "\n",
    "log_est,upper,lower,conf = get_log_estimate(9,15,next_to_river=False,high_confidence=False)\n",
    "\n",
    "#Converting intpo today's dollar:\n",
    "dollar_est = np.e**log_est * 1000 * SCALE_FACTOR\n",
    "dollar_hi = np.e**upper * 1000 * SCALE_FACTOR\n",
    "dollar_low = np.e**lower * 1000 * SCALE_FACTOR\n",
    "\n",
    "#Rounding off the values:\n",
    "rounded_est=np.around(dollar_est,-3)\n",
    "rounded_hi=np.around(dollar_hi,-3)\n",
    "rounded_low=np.around(dollar_low,-3)\n",
    "\n",
    "#Printing the values:\n",
    "print(f'The Estimated Property value in $:{rounded_est}')\n",
    "print(f'Calculating at {conf} % standard deviation')\n",
    "print(f'The Upper bound:{rounded_hi} ,The lower bound:{rounded_low}')"
   ]
  },
  {
   "cell_type": "code",
   "execution_count": 16,
   "metadata": {},
   "outputs": [],
   "source": [
    "def get_dollar_estimate(rm,ptratio,chas=False,large_range=True):\n",
    "    \n",
    "    if rm<1 or ptratio<1:\n",
    "        print('Invalid data. Try again')\n",
    "        return\n",
    "    \n",
    "    log_est,upper,lower,conf = get_log_estimate(rm,ptratio,next_to_river=chas,high_confidence\n",
    "                                                =large_range)\n",
    "\n",
    "    #Converting intpo today's dollar:\n",
    "    dollar_est = np.e**log_est * 1000 * SCALE_FACTOR\n",
    "    dollar_hi = np.e**upper * 1000 * SCALE_FACTOR\n",
    "    dollar_low = np.e**lower * 1000 * SCALE_FACTOR\n",
    "\n",
    "    #Rounding off the values:\n",
    "    rounded_est=np.around(dollar_est,-3)\n",
    "    rounded_hi=np.around(dollar_hi,-3)\n",
    "    rounded_low=np.around(dollar_low,-3)\n",
    "\n",
    "    #Printing the values:\n",
    "    print(f'The Estimated Property value is:{rounded_est}$')\n",
    "    print(f'Calculating at {conf} % standard deviation')\n",
    "    print(f'The Upper bound:{rounded_hi} ,The lower bound:{rounded_low}')"
   ]
  },
  {
   "cell_type": "code",
   "execution_count": 11,
   "metadata": {},
   "outputs": [
    {
     "name": "stdout",
     "output_type": "stream",
     "text": [
      "The Estimated Property value in $:247000.0\n",
      "Calculating at 95 % standard deviation\n",
      "The Upper bound:360000.0 ,The lower bound:170000.0\n"
     ]
    }
   ],
   "source": [
    "get_dollar_estimate(6,40)"
   ]
  },
  {
   "cell_type": "code",
   "execution_count": 19,
   "metadata": {},
   "outputs": [
    {
     "name": "stdout",
     "output_type": "stream",
     "text": [
      "Welcome to Boston House price prediction\n",
      "----------------------------------------\n",
      "Please enter the number of Rooms you prefer:\n",
      "5\n",
      "Enter the Students to Teacher ratio which you prefer in the nearby school of your locality:\n",
      "50\n",
      "\n",
      "\n",
      "RESULTS:\n",
      "The Estimated Property value is:155000.0$\n",
      "Calculating at 95 % standard deviation\n",
      "The Upper bound:226000.0 ,The lower bound:107000.0\n"
     ]
    }
   ],
   "source": [
    "#Run here:\n",
    "print('Welcome to Boston House price prediction')\n",
    "print('----------------------------------------')\n",
    "print('Please enter the number of Rooms you prefer:')\n",
    "Number_of_rooms_you_prefer = int(input())\n",
    "print('Enter the Students to Teacher ratio which you prefer in the nearby school of your locality:')\n",
    "Students_to_teacher_ratio = int(input())\n",
    "print('\\n')\n",
    "print('RESULTS:')\n",
    "get_dollar_estimate(Number_of_rooms_you_prefer,Students_to_teacher_ratio)"
   ]
  },
  {
   "cell_type": "code",
   "execution_count": null,
   "metadata": {},
   "outputs": [],
   "source": []
  },
  {
   "cell_type": "code",
   "execution_count": null,
   "metadata": {},
   "outputs": [],
   "source": []
  },
  {
   "cell_type": "code",
   "execution_count": null,
   "metadata": {},
   "outputs": [],
   "source": []
  },
  {
   "cell_type": "code",
   "execution_count": null,
   "metadata": {},
   "outputs": [],
   "source": []
  },
  {
   "cell_type": "code",
   "execution_count": null,
   "metadata": {},
   "outputs": [],
   "source": []
  },
  {
   "cell_type": "code",
   "execution_count": null,
   "metadata": {},
   "outputs": [],
   "source": []
  },
  {
   "cell_type": "code",
   "execution_count": null,
   "metadata": {},
   "outputs": [],
   "source": []
  },
  {
   "cell_type": "code",
   "execution_count": null,
   "metadata": {},
   "outputs": [],
   "source": []
  },
  {
   "cell_type": "code",
   "execution_count": null,
   "metadata": {},
   "outputs": [],
   "source": []
  },
  {
   "cell_type": "code",
   "execution_count": null,
   "metadata": {},
   "outputs": [],
   "source": []
  },
  {
   "cell_type": "code",
   "execution_count": null,
   "metadata": {},
   "outputs": [],
   "source": []
  },
  {
   "cell_type": "code",
   "execution_count": null,
   "metadata": {},
   "outputs": [],
   "source": []
  },
  {
   "cell_type": "code",
   "execution_count": null,
   "metadata": {},
   "outputs": [],
   "source": []
  },
  {
   "cell_type": "code",
   "execution_count": null,
   "metadata": {},
   "outputs": [],
   "source": []
  },
  {
   "cell_type": "code",
   "execution_count": null,
   "metadata": {},
   "outputs": [],
   "source": []
  },
  {
   "cell_type": "code",
   "execution_count": null,
   "metadata": {},
   "outputs": [],
   "source": []
  },
  {
   "cell_type": "code",
   "execution_count": null,
   "metadata": {},
   "outputs": [],
   "source": []
  },
  {
   "cell_type": "code",
   "execution_count": null,
   "metadata": {},
   "outputs": [],
   "source": []
  },
  {
   "cell_type": "code",
   "execution_count": null,
   "metadata": {},
   "outputs": [],
   "source": []
  },
  {
   "cell_type": "code",
   "execution_count": null,
   "metadata": {},
   "outputs": [],
   "source": []
  },
  {
   "cell_type": "code",
   "execution_count": null,
   "metadata": {},
   "outputs": [],
   "source": []
  },
  {
   "cell_type": "code",
   "execution_count": null,
   "metadata": {},
   "outputs": [],
   "source": []
  },
  {
   "cell_type": "code",
   "execution_count": null,
   "metadata": {},
   "outputs": [],
   "source": []
  },
  {
   "cell_type": "code",
   "execution_count": null,
   "metadata": {},
   "outputs": [],
   "source": []
  },
  {
   "cell_type": "code",
   "execution_count": null,
   "metadata": {},
   "outputs": [],
   "source": []
  },
  {
   "cell_type": "code",
   "execution_count": null,
   "metadata": {},
   "outputs": [],
   "source": []
  },
  {
   "cell_type": "code",
   "execution_count": null,
   "metadata": {},
   "outputs": [],
   "source": []
  },
  {
   "cell_type": "code",
   "execution_count": null,
   "metadata": {},
   "outputs": [],
   "source": []
  },
  {
   "cell_type": "code",
   "execution_count": null,
   "metadata": {},
   "outputs": [],
   "source": []
  },
  {
   "cell_type": "code",
   "execution_count": null,
   "metadata": {},
   "outputs": [],
   "source": []
  },
  {
   "cell_type": "code",
   "execution_count": null,
   "metadata": {},
   "outputs": [],
   "source": []
  },
  {
   "cell_type": "code",
   "execution_count": null,
   "metadata": {},
   "outputs": [],
   "source": []
  },
  {
   "cell_type": "code",
   "execution_count": null,
   "metadata": {},
   "outputs": [],
   "source": []
  },
  {
   "cell_type": "code",
   "execution_count": null,
   "metadata": {},
   "outputs": [],
   "source": []
  },
  {
   "cell_type": "code",
   "execution_count": null,
   "metadata": {},
   "outputs": [],
   "source": []
  },
  {
   "cell_type": "code",
   "execution_count": null,
   "metadata": {},
   "outputs": [],
   "source": []
  },
  {
   "cell_type": "code",
   "execution_count": null,
   "metadata": {},
   "outputs": [],
   "source": []
  },
  {
   "cell_type": "code",
   "execution_count": null,
   "metadata": {},
   "outputs": [],
   "source": []
  },
  {
   "cell_type": "code",
   "execution_count": null,
   "metadata": {},
   "outputs": [],
   "source": []
  },
  {
   "cell_type": "code",
   "execution_count": null,
   "metadata": {},
   "outputs": [],
   "source": []
  },
  {
   "cell_type": "code",
   "execution_count": null,
   "metadata": {},
   "outputs": [],
   "source": []
  },
  {
   "cell_type": "code",
   "execution_count": null,
   "metadata": {},
   "outputs": [],
   "source": []
  },
  {
   "cell_type": "code",
   "execution_count": null,
   "metadata": {},
   "outputs": [],
   "source": []
  }
 ],
 "metadata": {
  "kernelspec": {
   "display_name": "Python 3",
   "language": "python",
   "name": "python3"
  },
  "language_info": {
   "codemirror_mode": {
    "name": "ipython",
    "version": 3
   },
   "file_extension": ".py",
   "mimetype": "text/x-python",
   "name": "python",
   "nbconvert_exporter": "python",
   "pygments_lexer": "ipython3",
   "version": "3.8.3"
  }
 },
 "nbformat": 4,
 "nbformat_minor": 4
}
